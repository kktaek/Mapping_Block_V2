{
 "cells": [
  {
   "cell_type": "code",
   "execution_count": 4,
   "id": "e8cce784",
   "metadata": {},
   "outputs": [
    {
     "data": {
      "text/plain": [
       "<module 'experiment' from 'C:\\\\Users\\\\kyeongtaek\\\\generative_model\\\\land_sat\\\\experiment.py'>"
      ]
     },
     "execution_count": 4,
     "metadata": {},
     "output_type": "execute_result"
    }
   ],
   "source": [
    "import pandas as pd\n",
    "import numpy as np\n",
    "import model as deep\n",
    "import experiment as exp\n",
    "import myutil as util\n",
    "\n",
    "from tensorflow.keras.optimizers import Adam\n",
    "import matplotlib.pyplot as plt\n",
    "\n",
    "import importlib\n",
    "importlib.reload(deep)\n",
    "importlib.reload(exp)"
   ]
  },
  {
   "cell_type": "code",
   "execution_count": 5,
   "id": "53deb1fb",
   "metadata": {},
   "outputs": [],
   "source": [
    "#파일 읽기\n",
    "filepath_german_csv = 'sat.csv'\n",
    "d_german_df = pd.read_csv(filepath_german_csv)\n",
    "\n",
    "#numpy 변환\n",
    "d_german_np = np.array(d_german_df)\n",
    "\n",
    "# sample 수, 특징 수 등 계산\n",
    "n_row = d_german_np.shape[0]\n",
    "n_features = d_german_np.shape[1]-1\n",
    "\n",
    "# 입력과 출력 데이터 분리\n",
    "x = d_german_np[:, :n_features]\n",
    "y = d_german_np[:, n_features]-1\n",
    "\n",
    "#정규화\n",
    "x_norm = (x - np.min(x,0))/ (np.max(x,0) - np.min(x,0))\n",
    "y_norm = (y - np.min(y,0))/ (np.max(y,0) - np.min(y,0))"
   ]
  },
  {
   "cell_type": "code",
   "execution_count": 6,
   "id": "8f139d0c",
   "metadata": {},
   "outputs": [
    {
     "ename": "ResourceExhaustedError",
     "evalue": "Graph execution error:\n\nDetected at node 'sequential_1/activation_3/Relu' defined at (most recent call last):\n    File \"C:\\Users\\kyeongtaek\\anaconda3\\envs\\tensor\\lib\\runpy.py\", line 196, in _run_module_as_main\n      return _run_code(code, main_globals, None,\n    File \"C:\\Users\\kyeongtaek\\anaconda3\\envs\\tensor\\lib\\runpy.py\", line 86, in _run_code\n      exec(code, run_globals)\n    File \"C:\\Users\\kyeongtaek\\anaconda3\\envs\\tensor\\lib\\site-packages\\ipykernel_launcher.py\", line 17, in <module>\n      app.launch_new_instance()\n    File \"C:\\Users\\kyeongtaek\\anaconda3\\envs\\tensor\\lib\\site-packages\\traitlets\\config\\application.py\", line 846, in launch_instance\n      app.start()\n    File \"C:\\Users\\kyeongtaek\\anaconda3\\envs\\tensor\\lib\\site-packages\\ipykernel\\kernelapp.py\", line 712, in start\n      self.io_loop.start()\n    File \"C:\\Users\\kyeongtaek\\anaconda3\\envs\\tensor\\lib\\site-packages\\tornado\\platform\\asyncio.py\", line 215, in start\n      self.asyncio_loop.run_forever()\n    File \"C:\\Users\\kyeongtaek\\anaconda3\\envs\\tensor\\lib\\asyncio\\base_events.py\", line 600, in run_forever\n      self._run_once()\n    File \"C:\\Users\\kyeongtaek\\anaconda3\\envs\\tensor\\lib\\asyncio\\base_events.py\", line 1896, in _run_once\n      handle._run()\n    File \"C:\\Users\\kyeongtaek\\anaconda3\\envs\\tensor\\lib\\asyncio\\events.py\", line 80, in _run\n      self._context.run(self._callback, *self._args)\n    File \"C:\\Users\\kyeongtaek\\anaconda3\\envs\\tensor\\lib\\site-packages\\ipykernel\\kernelbase.py\", line 510, in dispatch_queue\n      await self.process_one()\n    File \"C:\\Users\\kyeongtaek\\anaconda3\\envs\\tensor\\lib\\site-packages\\ipykernel\\kernelbase.py\", line 499, in process_one\n      await dispatch(*args)\n    File \"C:\\Users\\kyeongtaek\\anaconda3\\envs\\tensor\\lib\\site-packages\\ipykernel\\kernelbase.py\", line 406, in dispatch_shell\n      await result\n    File \"C:\\Users\\kyeongtaek\\anaconda3\\envs\\tensor\\lib\\site-packages\\ipykernel\\kernelbase.py\", line 730, in execute_request\n      reply_content = await reply_content\n    File \"C:\\Users\\kyeongtaek\\anaconda3\\envs\\tensor\\lib\\site-packages\\ipykernel\\ipkernel.py\", line 383, in do_execute\n      res = shell.run_cell(\n    File \"C:\\Users\\kyeongtaek\\anaconda3\\envs\\tensor\\lib\\site-packages\\ipykernel\\zmqshell.py\", line 528, in run_cell\n      return super().run_cell(*args, **kwargs)\n    File \"C:\\Users\\kyeongtaek\\anaconda3\\envs\\tensor\\lib\\site-packages\\IPython\\core\\interactiveshell.py\", line 2940, in run_cell\n      result = self._run_cell(\n    File \"C:\\Users\\kyeongtaek\\anaconda3\\envs\\tensor\\lib\\site-packages\\IPython\\core\\interactiveshell.py\", line 2995, in _run_cell\n      return runner(coro)\n    File \"C:\\Users\\kyeongtaek\\anaconda3\\envs\\tensor\\lib\\site-packages\\IPython\\core\\async_helpers.py\", line 129, in _pseudo_sync_runner\n      coro.send(None)\n    File \"C:\\Users\\kyeongtaek\\anaconda3\\envs\\tensor\\lib\\site-packages\\IPython\\core\\interactiveshell.py\", line 3194, in run_cell_async\n      has_raised = await self.run_ast_nodes(code_ast.body, cell_name,\n    File \"C:\\Users\\kyeongtaek\\anaconda3\\envs\\tensor\\lib\\site-packages\\IPython\\core\\interactiveshell.py\", line 3373, in run_ast_nodes\n      if await self.run_code(code, result, async_=asy):\n    File \"C:\\Users\\kyeongtaek\\anaconda3\\envs\\tensor\\lib\\site-packages\\IPython\\core\\interactiveshell.py\", line 3433, in run_code\n      exec(code_obj, self.user_global_ns, self.user_ns)\n    File \"C:\\Users\\kyeongtaek\\AppData\\Local\\Temp\\ipykernel_26880\\634249430.py\", line 50, in <module>\n      result = exp.train_batches_with_random_selection(train_options, x_train, y_train, bVerbose=False)\n    File \"C:\\Users\\kyeongtaek\\generative_model\\land_sat\\experiment.py\", line 69, in train_batches_with_random_selection\n      loss = m.train_on_batch(x_train_batch, y_train_batch)\n    File \"C:\\Users\\kyeongtaek\\anaconda3\\envs\\tensor\\lib\\site-packages\\keras\\engine\\training.py\", line 2381, in train_on_batch\n      logs = self.train_function(iterator)\n    File \"C:\\Users\\kyeongtaek\\anaconda3\\envs\\tensor\\lib\\site-packages\\keras\\engine\\training.py\", line 1160, in train_function\n      return step_function(self, iterator)\n    File \"C:\\Users\\kyeongtaek\\anaconda3\\envs\\tensor\\lib\\site-packages\\keras\\engine\\training.py\", line 1146, in step_function\n      outputs = model.distribute_strategy.run(run_step, args=(data,))\n    File \"C:\\Users\\kyeongtaek\\anaconda3\\envs\\tensor\\lib\\site-packages\\keras\\engine\\training.py\", line 1135, in run_step\n      outputs = model.train_step(data)\n    File \"C:\\Users\\kyeongtaek\\anaconda3\\envs\\tensor\\lib\\site-packages\\keras\\engine\\training.py\", line 993, in train_step\n      y_pred = self(x, training=True)\n    File \"C:\\Users\\kyeongtaek\\anaconda3\\envs\\tensor\\lib\\site-packages\\keras\\utils\\traceback_utils.py\", line 65, in error_handler\n      return fn(*args, **kwargs)\n    File \"C:\\Users\\kyeongtaek\\anaconda3\\envs\\tensor\\lib\\site-packages\\keras\\engine\\training.py\", line 557, in __call__\n      return super().__call__(*args, **kwargs)\n    File \"C:\\Users\\kyeongtaek\\anaconda3\\envs\\tensor\\lib\\site-packages\\keras\\utils\\traceback_utils.py\", line 65, in error_handler\n      return fn(*args, **kwargs)\n    File \"C:\\Users\\kyeongtaek\\anaconda3\\envs\\tensor\\lib\\site-packages\\keras\\engine\\base_layer.py\", line 1097, in __call__\n      outputs = call_fn(inputs, *args, **kwargs)\n    File \"C:\\Users\\kyeongtaek\\anaconda3\\envs\\tensor\\lib\\site-packages\\keras\\utils\\traceback_utils.py\", line 96, in error_handler\n      return fn(*args, **kwargs)\n    File \"C:\\Users\\kyeongtaek\\anaconda3\\envs\\tensor\\lib\\site-packages\\keras\\engine\\sequential.py\", line 410, in call\n      return super().call(inputs, training=training, mask=mask)\n    File \"C:\\Users\\kyeongtaek\\anaconda3\\envs\\tensor\\lib\\site-packages\\keras\\engine\\functional.py\", line 510, in call\n      return self._run_internal_graph(inputs, training=training, mask=mask)\n    File \"C:\\Users\\kyeongtaek\\anaconda3\\envs\\tensor\\lib\\site-packages\\keras\\engine\\functional.py\", line 667, in _run_internal_graph\n      outputs = node.layer(*args, **kwargs)\n    File \"C:\\Users\\kyeongtaek\\anaconda3\\envs\\tensor\\lib\\site-packages\\keras\\utils\\traceback_utils.py\", line 65, in error_handler\n      return fn(*args, **kwargs)\n    File \"C:\\Users\\kyeongtaek\\anaconda3\\envs\\tensor\\lib\\site-packages\\keras\\engine\\base_layer.py\", line 1097, in __call__\n      outputs = call_fn(inputs, *args, **kwargs)\n    File \"C:\\Users\\kyeongtaek\\anaconda3\\envs\\tensor\\lib\\site-packages\\keras\\utils\\traceback_utils.py\", line 96, in error_handler\n      return fn(*args, **kwargs)\n    File \"C:\\Users\\kyeongtaek\\anaconda3\\envs\\tensor\\lib\\site-packages\\keras\\layers\\core\\activation.py\", line 59, in call\n      return self.activation(inputs)\n    File \"C:\\Users\\kyeongtaek\\anaconda3\\envs\\tensor\\lib\\site-packages\\keras\\activations.py\", line 317, in relu\n      return backend.relu(\n    File \"C:\\Users\\kyeongtaek\\anaconda3\\envs\\tensor\\lib\\site-packages\\keras\\backend.py\", line 5366, in relu\n      x = tf.nn.relu(x)\nNode: 'sequential_1/activation_3/Relu'\nOOM when allocating tensor with shape[4869,16,64,64] and type float on /job:localhost/replica:0/task:0/device:GPU:0 by allocator GPU_0_bfc\n\t [[{{node sequential_1/activation_3/Relu}}]]\nHint: If you want to see a list of allocated tensors when OOM happens, add report_tensor_allocations_upon_oom to RunOptions for current allocation info. This isn't available when running in Eager mode.\n [Op:__inference_train_function_4311]",
     "output_type": "error",
     "traceback": [
      "\u001b[1;31m---------------------------------------------------------------------------\u001b[0m",
      "\u001b[1;31mResourceExhaustedError\u001b[0m                    Traceback (most recent call last)",
      "Cell \u001b[1;32mIn [6], line 50\u001b[0m\n\u001b[0;32m     47\u001b[0m train_options \u001b[38;5;241m=\u001b[39m exp\u001b[38;5;241m.\u001b[39mTrainParams(m, epochs\u001b[38;5;241m=\u001b[39m\u001b[38;5;241m500\u001b[39m, batch_size_per_class\u001b[38;5;241m=\u001b[39m\u001b[38;5;241m1024\u001b[39m)\n\u001b[0;32m     49\u001b[0m \u001b[38;5;66;03m# 학습\u001b[39;00m\n\u001b[1;32m---> 50\u001b[0m result \u001b[38;5;241m=\u001b[39m \u001b[43mexp\u001b[49m\u001b[38;5;241;43m.\u001b[39;49m\u001b[43mtrain_batches_with_random_selection\u001b[49m\u001b[43m(\u001b[49m\u001b[43mtrain_options\u001b[49m\u001b[43m,\u001b[49m\u001b[43m \u001b[49m\u001b[43mx_train\u001b[49m\u001b[43m,\u001b[49m\u001b[43m \u001b[49m\u001b[43my_train\u001b[49m\u001b[43m,\u001b[49m\u001b[43m \u001b[49m\u001b[43mbVerbose\u001b[49m\u001b[38;5;241;43m=\u001b[39;49m\u001b[38;5;28;43;01mFalse\u001b[39;49;00m\u001b[43m)\u001b[49m\n\u001b[0;32m     52\u001b[0m \u001b[38;5;66;03m# 테스트\u001b[39;00m\n\u001b[0;32m     53\u001b[0m o \u001b[38;5;241m=\u001b[39m np\u001b[38;5;241m.\u001b[39margmax(np\u001b[38;5;241m.\u001b[39msqueeze(result\u001b[38;5;241m.\u001b[39mmodel\u001b[38;5;241m.\u001b[39mpredict(x_test)), \u001b[38;5;241m-\u001b[39m\u001b[38;5;241m1\u001b[39m)\n",
      "File \u001b[1;32m~\\generative_model\\land_sat\\experiment.py:69\u001b[0m, in \u001b[0;36mtrain_batches_with_random_selection\u001b[1;34m(train_parms, x_train, y_train, x_val, y_val, bVerbose)\u001b[0m\n\u001b[0;32m     66\u001b[0m y_train_batch \u001b[38;5;241m=\u001b[39m y_train_cat[idx_random, :]\n\u001b[0;32m     68\u001b[0m \u001b[38;5;66;03m# 학습\u001b[39;00m\n\u001b[1;32m---> 69\u001b[0m loss \u001b[38;5;241m=\u001b[39m \u001b[43mm\u001b[49m\u001b[38;5;241;43m.\u001b[39;49m\u001b[43mtrain_on_batch\u001b[49m\u001b[43m(\u001b[49m\u001b[43mx_train_batch\u001b[49m\u001b[43m,\u001b[49m\u001b[43m \u001b[49m\u001b[43my_train_batch\u001b[49m\u001b[43m)\u001b[49m\n\u001b[0;32m     70\u001b[0m train_acc[i] \u001b[38;5;241m=\u001b[39m loss[\u001b[38;5;241m1\u001b[39m]\n\u001b[0;32m     71\u001b[0m \u001b[38;5;28;01mif\u001b[39;00m bVerbose:\n",
      "File \u001b[1;32m~\\anaconda3\\envs\\tensor\\lib\\site-packages\\keras\\engine\\training.py:2381\u001b[0m, in \u001b[0;36mModel.train_on_batch\u001b[1;34m(self, x, y, sample_weight, class_weight, reset_metrics, return_dict)\u001b[0m\n\u001b[0;32m   2377\u001b[0m     iterator \u001b[38;5;241m=\u001b[39m data_adapter\u001b[38;5;241m.\u001b[39msingle_batch_iterator(\n\u001b[0;32m   2378\u001b[0m         \u001b[38;5;28mself\u001b[39m\u001b[38;5;241m.\u001b[39mdistribute_strategy, x, y, sample_weight, class_weight\n\u001b[0;32m   2379\u001b[0m     )\n\u001b[0;32m   2380\u001b[0m     \u001b[38;5;28mself\u001b[39m\u001b[38;5;241m.\u001b[39mtrain_function \u001b[38;5;241m=\u001b[39m \u001b[38;5;28mself\u001b[39m\u001b[38;5;241m.\u001b[39mmake_train_function()\n\u001b[1;32m-> 2381\u001b[0m     logs \u001b[38;5;241m=\u001b[39m \u001b[38;5;28;43mself\u001b[39;49m\u001b[38;5;241;43m.\u001b[39;49m\u001b[43mtrain_function\u001b[49m\u001b[43m(\u001b[49m\u001b[43miterator\u001b[49m\u001b[43m)\u001b[49m\n\u001b[0;32m   2383\u001b[0m logs \u001b[38;5;241m=\u001b[39m tf_utils\u001b[38;5;241m.\u001b[39msync_to_numpy_or_python_type(logs)\n\u001b[0;32m   2384\u001b[0m \u001b[38;5;28;01mif\u001b[39;00m return_dict:\n",
      "File \u001b[1;32m~\\anaconda3\\envs\\tensor\\lib\\site-packages\\tensorflow\\python\\util\\traceback_utils.py:153\u001b[0m, in \u001b[0;36mfilter_traceback.<locals>.error_handler\u001b[1;34m(*args, **kwargs)\u001b[0m\n\u001b[0;32m    151\u001b[0m \u001b[38;5;28;01mexcept\u001b[39;00m \u001b[38;5;167;01mException\u001b[39;00m \u001b[38;5;28;01mas\u001b[39;00m e:\n\u001b[0;32m    152\u001b[0m   filtered_tb \u001b[38;5;241m=\u001b[39m _process_traceback_frames(e\u001b[38;5;241m.\u001b[39m__traceback__)\n\u001b[1;32m--> 153\u001b[0m   \u001b[38;5;28;01mraise\u001b[39;00m e\u001b[38;5;241m.\u001b[39mwith_traceback(filtered_tb) \u001b[38;5;28;01mfrom\u001b[39;00m \u001b[38;5;28mNone\u001b[39m\n\u001b[0;32m    154\u001b[0m \u001b[38;5;28;01mfinally\u001b[39;00m:\n\u001b[0;32m    155\u001b[0m   \u001b[38;5;28;01mdel\u001b[39;00m filtered_tb\n",
      "File \u001b[1;32m~\\anaconda3\\envs\\tensor\\lib\\site-packages\\tensorflow\\python\\eager\\execute.py:54\u001b[0m, in \u001b[0;36mquick_execute\u001b[1;34m(op_name, num_outputs, inputs, attrs, ctx, name)\u001b[0m\n\u001b[0;32m     52\u001b[0m \u001b[38;5;28;01mtry\u001b[39;00m:\n\u001b[0;32m     53\u001b[0m   ctx\u001b[38;5;241m.\u001b[39mensure_initialized()\n\u001b[1;32m---> 54\u001b[0m   tensors \u001b[38;5;241m=\u001b[39m pywrap_tfe\u001b[38;5;241m.\u001b[39mTFE_Py_Execute(ctx\u001b[38;5;241m.\u001b[39m_handle, device_name, op_name,\n\u001b[0;32m     55\u001b[0m                                       inputs, attrs, num_outputs)\n\u001b[0;32m     56\u001b[0m \u001b[38;5;28;01mexcept\u001b[39;00m core\u001b[38;5;241m.\u001b[39m_NotOkStatusException \u001b[38;5;28;01mas\u001b[39;00m e:\n\u001b[0;32m     57\u001b[0m   \u001b[38;5;28;01mif\u001b[39;00m name \u001b[38;5;129;01mis\u001b[39;00m \u001b[38;5;129;01mnot\u001b[39;00m \u001b[38;5;28;01mNone\u001b[39;00m:\n",
      "\u001b[1;31mResourceExhaustedError\u001b[0m: Graph execution error:\n\nDetected at node 'sequential_1/activation_3/Relu' defined at (most recent call last):\n    File \"C:\\Users\\kyeongtaek\\anaconda3\\envs\\tensor\\lib\\runpy.py\", line 196, in _run_module_as_main\n      return _run_code(code, main_globals, None,\n    File \"C:\\Users\\kyeongtaek\\anaconda3\\envs\\tensor\\lib\\runpy.py\", line 86, in _run_code\n      exec(code, run_globals)\n    File \"C:\\Users\\kyeongtaek\\anaconda3\\envs\\tensor\\lib\\site-packages\\ipykernel_launcher.py\", line 17, in <module>\n      app.launch_new_instance()\n    File \"C:\\Users\\kyeongtaek\\anaconda3\\envs\\tensor\\lib\\site-packages\\traitlets\\config\\application.py\", line 846, in launch_instance\n      app.start()\n    File \"C:\\Users\\kyeongtaek\\anaconda3\\envs\\tensor\\lib\\site-packages\\ipykernel\\kernelapp.py\", line 712, in start\n      self.io_loop.start()\n    File \"C:\\Users\\kyeongtaek\\anaconda3\\envs\\tensor\\lib\\site-packages\\tornado\\platform\\asyncio.py\", line 215, in start\n      self.asyncio_loop.run_forever()\n    File \"C:\\Users\\kyeongtaek\\anaconda3\\envs\\tensor\\lib\\asyncio\\base_events.py\", line 600, in run_forever\n      self._run_once()\n    File \"C:\\Users\\kyeongtaek\\anaconda3\\envs\\tensor\\lib\\asyncio\\base_events.py\", line 1896, in _run_once\n      handle._run()\n    File \"C:\\Users\\kyeongtaek\\anaconda3\\envs\\tensor\\lib\\asyncio\\events.py\", line 80, in _run\n      self._context.run(self._callback, *self._args)\n    File \"C:\\Users\\kyeongtaek\\anaconda3\\envs\\tensor\\lib\\site-packages\\ipykernel\\kernelbase.py\", line 510, in dispatch_queue\n      await self.process_one()\n    File \"C:\\Users\\kyeongtaek\\anaconda3\\envs\\tensor\\lib\\site-packages\\ipykernel\\kernelbase.py\", line 499, in process_one\n      await dispatch(*args)\n    File \"C:\\Users\\kyeongtaek\\anaconda3\\envs\\tensor\\lib\\site-packages\\ipykernel\\kernelbase.py\", line 406, in dispatch_shell\n      await result\n    File \"C:\\Users\\kyeongtaek\\anaconda3\\envs\\tensor\\lib\\site-packages\\ipykernel\\kernelbase.py\", line 730, in execute_request\n      reply_content = await reply_content\n    File \"C:\\Users\\kyeongtaek\\anaconda3\\envs\\tensor\\lib\\site-packages\\ipykernel\\ipkernel.py\", line 383, in do_execute\n      res = shell.run_cell(\n    File \"C:\\Users\\kyeongtaek\\anaconda3\\envs\\tensor\\lib\\site-packages\\ipykernel\\zmqshell.py\", line 528, in run_cell\n      return super().run_cell(*args, **kwargs)\n    File \"C:\\Users\\kyeongtaek\\anaconda3\\envs\\tensor\\lib\\site-packages\\IPython\\core\\interactiveshell.py\", line 2940, in run_cell\n      result = self._run_cell(\n    File \"C:\\Users\\kyeongtaek\\anaconda3\\envs\\tensor\\lib\\site-packages\\IPython\\core\\interactiveshell.py\", line 2995, in _run_cell\n      return runner(coro)\n    File \"C:\\Users\\kyeongtaek\\anaconda3\\envs\\tensor\\lib\\site-packages\\IPython\\core\\async_helpers.py\", line 129, in _pseudo_sync_runner\n      coro.send(None)\n    File \"C:\\Users\\kyeongtaek\\anaconda3\\envs\\tensor\\lib\\site-packages\\IPython\\core\\interactiveshell.py\", line 3194, in run_cell_async\n      has_raised = await self.run_ast_nodes(code_ast.body, cell_name,\n    File \"C:\\Users\\kyeongtaek\\anaconda3\\envs\\tensor\\lib\\site-packages\\IPython\\core\\interactiveshell.py\", line 3373, in run_ast_nodes\n      if await self.run_code(code, result, async_=asy):\n    File \"C:\\Users\\kyeongtaek\\anaconda3\\envs\\tensor\\lib\\site-packages\\IPython\\core\\interactiveshell.py\", line 3433, in run_code\n      exec(code_obj, self.user_global_ns, self.user_ns)\n    File \"C:\\Users\\kyeongtaek\\AppData\\Local\\Temp\\ipykernel_26880\\634249430.py\", line 50, in <module>\n      result = exp.train_batches_with_random_selection(train_options, x_train, y_train, bVerbose=False)\n    File \"C:\\Users\\kyeongtaek\\generative_model\\land_sat\\experiment.py\", line 69, in train_batches_with_random_selection\n      loss = m.train_on_batch(x_train_batch, y_train_batch)\n    File \"C:\\Users\\kyeongtaek\\anaconda3\\envs\\tensor\\lib\\site-packages\\keras\\engine\\training.py\", line 2381, in train_on_batch\n      logs = self.train_function(iterator)\n    File \"C:\\Users\\kyeongtaek\\anaconda3\\envs\\tensor\\lib\\site-packages\\keras\\engine\\training.py\", line 1160, in train_function\n      return step_function(self, iterator)\n    File \"C:\\Users\\kyeongtaek\\anaconda3\\envs\\tensor\\lib\\site-packages\\keras\\engine\\training.py\", line 1146, in step_function\n      outputs = model.distribute_strategy.run(run_step, args=(data,))\n    File \"C:\\Users\\kyeongtaek\\anaconda3\\envs\\tensor\\lib\\site-packages\\keras\\engine\\training.py\", line 1135, in run_step\n      outputs = model.train_step(data)\n    File \"C:\\Users\\kyeongtaek\\anaconda3\\envs\\tensor\\lib\\site-packages\\keras\\engine\\training.py\", line 993, in train_step\n      y_pred = self(x, training=True)\n    File \"C:\\Users\\kyeongtaek\\anaconda3\\envs\\tensor\\lib\\site-packages\\keras\\utils\\traceback_utils.py\", line 65, in error_handler\n      return fn(*args, **kwargs)\n    File \"C:\\Users\\kyeongtaek\\anaconda3\\envs\\tensor\\lib\\site-packages\\keras\\engine\\training.py\", line 557, in __call__\n      return super().__call__(*args, **kwargs)\n    File \"C:\\Users\\kyeongtaek\\anaconda3\\envs\\tensor\\lib\\site-packages\\keras\\utils\\traceback_utils.py\", line 65, in error_handler\n      return fn(*args, **kwargs)\n    File \"C:\\Users\\kyeongtaek\\anaconda3\\envs\\tensor\\lib\\site-packages\\keras\\engine\\base_layer.py\", line 1097, in __call__\n      outputs = call_fn(inputs, *args, **kwargs)\n    File \"C:\\Users\\kyeongtaek\\anaconda3\\envs\\tensor\\lib\\site-packages\\keras\\utils\\traceback_utils.py\", line 96, in error_handler\n      return fn(*args, **kwargs)\n    File \"C:\\Users\\kyeongtaek\\anaconda3\\envs\\tensor\\lib\\site-packages\\keras\\engine\\sequential.py\", line 410, in call\n      return super().call(inputs, training=training, mask=mask)\n    File \"C:\\Users\\kyeongtaek\\anaconda3\\envs\\tensor\\lib\\site-packages\\keras\\engine\\functional.py\", line 510, in call\n      return self._run_internal_graph(inputs, training=training, mask=mask)\n    File \"C:\\Users\\kyeongtaek\\anaconda3\\envs\\tensor\\lib\\site-packages\\keras\\engine\\functional.py\", line 667, in _run_internal_graph\n      outputs = node.layer(*args, **kwargs)\n    File \"C:\\Users\\kyeongtaek\\anaconda3\\envs\\tensor\\lib\\site-packages\\keras\\utils\\traceback_utils.py\", line 65, in error_handler\n      return fn(*args, **kwargs)\n    File \"C:\\Users\\kyeongtaek\\anaconda3\\envs\\tensor\\lib\\site-packages\\keras\\engine\\base_layer.py\", line 1097, in __call__\n      outputs = call_fn(inputs, *args, **kwargs)\n    File \"C:\\Users\\kyeongtaek\\anaconda3\\envs\\tensor\\lib\\site-packages\\keras\\utils\\traceback_utils.py\", line 96, in error_handler\n      return fn(*args, **kwargs)\n    File \"C:\\Users\\kyeongtaek\\anaconda3\\envs\\tensor\\lib\\site-packages\\keras\\layers\\core\\activation.py\", line 59, in call\n      return self.activation(inputs)\n    File \"C:\\Users\\kyeongtaek\\anaconda3\\envs\\tensor\\lib\\site-packages\\keras\\activations.py\", line 317, in relu\n      return backend.relu(\n    File \"C:\\Users\\kyeongtaek\\anaconda3\\envs\\tensor\\lib\\site-packages\\keras\\backend.py\", line 5366, in relu\n      x = tf.nn.relu(x)\nNode: 'sequential_1/activation_3/Relu'\nOOM when allocating tensor with shape[4869,16,64,64] and type float on /job:localhost/replica:0/task:0/device:GPU:0 by allocator GPU_0_bfc\n\t [[{{node sequential_1/activation_3/Relu}}]]\nHint: If you want to see a list of allocated tensors when OOM happens, add report_tensor_allocations_upon_oom to RunOptions for current allocation info. This isn't available when running in Eager mode.\n [Op:__inference_train_function_4311]"
     ]
    }
   ],
   "source": [
    "# 10fold validation 수행여부\n",
    "bTenFoldValidation = True\n",
    "if not bTenFoldValidation:  # 학습 & 테스트를 1회만 수행하는 경우\n",
    "    # 데이터 분할\n",
    "    [x_train, x_val, x_test, y_train, y_val, y_test] = exp.split_data(x, y, test_ratio=0.0, val_ratio=0.1)\n",
    "\n",
    "    # 모델 불러오기 & 컴파일\n",
    "    m = deep.get_model_gen(x.shape[1:])\n",
    "    m.compile(loss='categorical_crossentropy', optimizer=Adam(learning_rate=0.001), metrics=['accuracy'])\n",
    "\n",
    "    # 학습시 사용하는 옵션\n",
    "    train_options = exp.TrainParams(m, epochs=500, batch_size_per_class=32)\n",
    "\n",
    "    # 학습\n",
    "    result = exp.train_batches_with_random_selection(train_options, x_train, y_train, x_val, y_val)\n",
    "\n",
    "    # 테스트\n",
    "    if(x_test.shape[0] > 0):\n",
    "        test_acc_tmp = np.sum(np.argmax(np.squeeze(result.model.predict(x_test)), -1) == y_test) / y_test.shape[0]\n",
    "        print(f'test_acc:{test_acc_tmp}')\n",
    "    # 결과 출력\n",
    "\n",
    "    plt.plot(result.train_acc)\n",
    "    plt.plot(result.val_acc)\n",
    "    plt.show()\n",
    "\n",
    "else:  # N fold Validation\n",
    "    idx = np.array(range(n_row))\n",
    "    np.random.shuffle(idx)  # 데이터 인덱스 섞기\n",
    "\n",
    "    N = 10\n",
    "    total = 0\n",
    "    nClass = 2\n",
    "    cm = np.zeros([N, nClass, nClass])\n",
    "    for i in range(N):\n",
    "        # Train/Test 데이터 분할\n",
    "        [x_train, x_test, y_train, y_test] = exp.split_data_for_N_fold_validation(x, y, fold=N, idx=i)\n",
    "\n",
    "        # 모델 불러오기 & 컴파일\n",
    "        m = deep.get_model_gen(x.shape[1:])\n",
    "        #m = deep.get_model(x.shape[1:])\n",
    "\n",
    "        # m = deep.get_model(x.shape[1:])\n",
    "        m.compile(loss='categorical_crossentropy', optimizer=Adam(learning_rate=0.0001), metrics=['accuracy'])\n",
    "\n",
    "        # 학습시 사용하는 옵션\n",
    "        train_options = exp.TrainParams(m, epochs=2000, batch_size_per_class=256)\n",
    "\n",
    "        # 학습\n",
    "        result = exp.train_batches_with_random_selection(train_options, x_train, y_train, bVerbose=False)\n",
    "\n",
    "        # 테스트\n",
    "        o = np.argmax(np.squeeze(result.model.predict(x_test)), -1)\n",
    "        test_acc_tmp = np.sum(o == y_test) / y_test.shape[0]\n",
    "        #for j in range(y_test.shape[0]):\n",
    "            #cm[i, int(y_test[j]), int(o[j])] += 1  #Confusion Matrix 계산\n",
    "\n",
    "        # 결과 출력\n",
    "        print(f'{i}/{N}\\t test_acc:{test_acc_tmp}')\n",
    "        plt.plot(result.train_acc)\n",
    "        plt.plot(result.val_acc)\n",
    "        plt.show()\n",
    "        total = total + test_acc_tmp\n",
    "\n",
    "ave = total/10\n",
    "print(f'average accuracy : {ave}')"
   ]
  },
  {
   "cell_type": "code",
   "execution_count": 7,
   "id": "c386597b",
   "metadata": {},
   "outputs": [],
   "source": [
    "import tensorflow as tf\n",
    "\n",
    "  # 모델 불러오기\n",
    "load_model = tf.keras.models.load_model('sat_model.h5')"
   ]
  },
  {
   "cell_type": "code",
   "execution_count": 8,
   "id": "447e9c25",
   "metadata": {},
   "outputs": [
    {
     "name": "stdout",
     "output_type": "stream",
     "text": [
      "Model: \"model\"\n",
      "_________________________________________________________________\n",
      " Layer (type)                Output Shape              Param #   \n",
      "=================================================================\n",
      " dense_27_input (InputLayer)  [(None, 36)]             0         \n",
      "                                                                 \n",
      " dense_27 (Dense)            (None, 4096)              151552    \n",
      "                                                                 \n",
      " batch_normalization_27 (Bat  (None, 4096)             16384     \n",
      " chNormalization)                                                \n",
      "                                                                 \n",
      " reshape_9 (Reshape)         (None, 8, 8, 64)          0         \n",
      "                                                                 \n",
      " up_sampling2d_27 (UpSamplin  (None, 16, 16, 64)       0         \n",
      " g2D)                                                            \n",
      "                                                                 \n",
      " conv2d_81 (Conv2D)          (None, 16, 16, 32)        18464     \n",
      "                                                                 \n",
      " batch_normalization_28 (Bat  (None, 16, 16, 32)       128       \n",
      " chNormalization)                                                \n",
      "                                                                 \n",
      " up_sampling2d_28 (UpSamplin  (None, 32, 32, 32)       0         \n",
      " g2D)                                                            \n",
      "                                                                 \n",
      " conv2d_82 (Conv2D)          (None, 32, 32, 16)        4624      \n",
      "                                                                 \n",
      " batch_normalization_29 (Bat  (None, 32, 32, 16)       64        \n",
      " chNormalization)                                                \n",
      "                                                                 \n",
      " up_sampling2d_29 (UpSamplin  (None, 64, 64, 16)       0         \n",
      " g2D)                                                            \n",
      "                                                                 \n",
      " conv2d_83 (Conv2D)          (None, 64, 64, 1)         145       \n",
      "                                                                 \n",
      " conv2d_84 (Conv2D)          (None, 64, 64, 16)        160       \n",
      "                                                                 \n",
      " conv2d_85 (Conv2D)          (None, 64, 64, 16)        2320      \n",
      "                                                                 \n",
      " activation_27 (Activation)  (None, 64, 64, 16)        0         \n",
      "                                                                 \n",
      " max_pooling2d_27 (MaxPoolin  (None, 31, 31, 16)       0         \n",
      " g2D)                                                            \n",
      "                                                                 \n",
      " conv2d_86 (Conv2D)          (None, 31, 31, 32)        4640      \n",
      "                                                                 \n",
      " conv2d_87 (Conv2D)          (None, 31, 31, 32)        9248      \n",
      "                                                                 \n",
      " activation_28 (Activation)  (None, 31, 31, 32)        0         \n",
      "                                                                 \n",
      " max_pooling2d_28 (MaxPoolin  (None, 15, 15, 32)       0         \n",
      " g2D)                                                            \n",
      "                                                                 \n",
      " conv2d_88 (Conv2D)          (None, 15, 15, 64)        18496     \n",
      "                                                                 \n",
      " conv2d_89 (Conv2D)          (None, 15, 15, 64)        36928     \n",
      "                                                                 \n",
      " activation_29 (Activation)  (None, 15, 15, 64)        0         \n",
      "                                                                 \n",
      " max_pooling2d_29 (MaxPoolin  (None, 7, 7, 64)         0         \n",
      " g2D)                                                            \n",
      "                                                                 \n",
      " flatten_9 (Flatten)         (None, 3136)              0         \n",
      "                                                                 \n",
      " dense_28 (Dense)            (None, 100)               313700    \n",
      "                                                                 \n",
      " dense_29 (Dense)            (None, 7)                 707       \n",
      "                                                                 \n",
      "=================================================================\n",
      "Total params: 577,560\n",
      "Trainable params: 569,272\n",
      "Non-trainable params: 8,288\n",
      "_________________________________________________________________\n"
     ]
    }
   ],
   "source": [
    "import tensorflow as tf\n",
    "cam_model = tf.keras.Model(load_model.input, outputs=(load_model.layers[-16].output, load_model.layers[-1].output))\n",
    "cam_model.summary()"
   ]
  },
  {
   "cell_type": "code",
   "execution_count": 9,
   "id": "56b9cfcd",
   "metadata": {},
   "outputs": [],
   "source": [
    "get_output = tf.keras.backend.function([load_model.layers[0].input],\n",
    "                                       [load_model.layers[-16].output, load_model.layers[-1].output])\n",
    "[conv_outputs, cam_predictions] = get_output([x_test])\n",
    "class_weights = load_model.layers[-1].get_weights()[0]"
   ]
  },
  {
   "cell_type": "code",
   "execution_count": 42,
   "id": "b99997bb",
   "metadata": {},
   "outputs": [],
   "source": [
    "final_img = np.squeeze(conv_outputs[50])"
   ]
  },
  {
   "cell_type": "code",
   "execution_count": 43,
   "id": "6f8cc2b5",
   "metadata": {},
   "outputs": [
    {
     "data": {
      "text/plain": [
       "<matplotlib.image.AxesImage at 0x270d0c13400>"
      ]
     },
     "execution_count": 43,
     "metadata": {},
     "output_type": "execute_result"
    },
    {
     "data": {
      "image/png": "[encoded data removed]",
      "text/plain": [
       "<Figure size 640x480 with 1 Axes>"
      ]
     },
     "metadata": {},
     "output_type": "display_data"
    }
   ],
   "source": [
    "from matplotlib.pyplot import imshow\n",
    "\n",
    "imshow(final_img)"
   ]
  },
  {
   "cell_type": "code",
   "execution_count": null,
   "id": "865fca4f",
   "metadata": {},
   "outputs": [],
   "source": []
  }
 ],
 "metadata": {
  "kernelspec": {
   "display_name": "tensor",
   "language": "python",
   "name": "tensor"
  },
  "language_info": {
   "codemirror_mode": {
    "name": "ipython",
    "version": 3
   },
   "file_extension": ".py",
   "mimetype": "text/x-python",
   "name": "python",
   "nbconvert_exporter": "python",
   "pygments_lexer": "ipython3",
   "version": "3.10.6"
  }
 },
 "nbformat": 4,
 "nbformat_minor": 5
}
